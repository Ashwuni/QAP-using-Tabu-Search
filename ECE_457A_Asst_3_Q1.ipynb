{
  "nbformat": 4,
  "nbformat_minor": 0,
  "metadata": {
    "colab": {
      "name": "ECE 457A Asst 3 Q1",
      "provenance": []
    },
    "kernelspec": {
      "name": "python3",
      "display_name": "Python 3"
    },
    "language_info": {
      "name": "python"
    }
  },
  "cells": [
    {
      "cell_type": "code",
      "execution_count": null,
      "metadata": {
        "id": "oL8Ojtj0-_CM"
      },
      "outputs": [],
      "source": [
        ""
      ]
    },
    {
      "cell_type": "code",
      "source": [
        "import random\n",
        "import numpy\n",
        "\n",
        "def swap(c, d, currentSolution):\n",
        "  temp = [*currentSolution]\n",
        "  a, b = temp.index(c), temp.index(d)\n",
        "  temp[b], temp[a] = temp[a], temp[b]\n",
        "  return temp"
      ],
      "metadata": {
        "id": "TgFj6p6h_6U3"
      },
      "execution_count": null,
      "outputs": []
    },
    {
      "cell_type": "code",
      "source": [
        "def findBestSwap(optionsList, currentSolution, distance, flow, tabuList):\n",
        "  sort = []\n",
        "  for option in optionsList:\n",
        "    optionSolution = swap(option[0], option[1], currentSolution)\n",
        "    swapCost = getCost(optionSolution, distance, flow)\n",
        "    sort.append((option, swapCost))\n",
        "\n",
        "  sort = sorted(sort, key=lambda d:d[1])\n",
        "\n",
        "  filter_sort = []\n",
        "  for solution in sort:\n",
        "    if not solution[0] in tabuList:\n",
        "      filter_sort.append(solution)\n",
        "  if len(filter_sort) == 0:\n",
        "    return sort[0]\n",
        "  bestSwap = filter_sort[0]\n",
        "  #aspirationList.append(bestSwap)\n",
        "  return bestSwap"
      ],
      "metadata": {
        "id": "cYqnLdy7Ku6W"
      },
      "execution_count": null,
      "outputs": []
    },
    {
      "cell_type": "code",
      "source": [
        "def getCost(solution, distance, flow):\n",
        "  #index is location, value in facility\n",
        "  cost = 0\n",
        "  i = 0\n",
        "  j= 0\n",
        "  #while i < (len(solution)):\n",
        "  #  cost += distance[i][]*flow[solution[i]][]\n",
        "  #  i+=1\n",
        "  \n",
        "  #while i < len(solution):\n",
        "    #while j < len(solution):\n",
        "  for i in range(20):\n",
        "    for j in range(20):\n",
        "      if i != j:\n",
        "        cost += distance[i][j]*flow[solution[i]][solution[j]]\n",
        "  return cost/2\n"
      ],
      "metadata": {
        "id": "vcQfzw4vKz8X"
      },
      "execution_count": null,
      "outputs": []
    },
    {
      "cell_type": "code",
      "source": [
        "# #test findBestSwap()\n",
        "\n",
        "# distance = numpy.loadtxt(open('/Distance.csv'), delimiter = ',')\n",
        "# flow = numpy.loadtxt(open('/Flow.csv'), delimiter = ',')\n",
        "# tabuList = {(1,2):2,(2,3):3,(3,4):6}\n",
        "\n",
        "# test = [0,1,2,3,4,5,6,7,8,9,10,11,12,13,14,15,16,17,18,19]\n",
        "# optionsList = [(1,2),(2,3),(3,4),(5,6),(7,8)]\n",
        "\n",
        "# test2 = findBestSwap(optionsList, test, distance, flow, tabuList)"
      ],
      "metadata": {
        "id": "xZ2yrOYSdIyX"
      },
      "execution_count": null,
      "outputs": []
    },
    {
      "cell_type": "code",
      "source": [
        "distance = numpy.loadtxt(open('/Distance.csv'), delimiter = ',')\n",
        "flow = numpy.loadtxt(open('/Flow.csv'), delimiter = ',')\n",
        "#print(getCost([0,1,2,3,4,5,6,7,8,9,10,11,12,13,14,15,16,17,18,19], distance, flow))"
      ],
      "metadata": {
        "id": "D2D3c0FEhUyZ"
      },
      "execution_count": null,
      "outputs": []
    },
    {
      "cell_type": "code",
      "source": [
        "def doTabu(currentSolution, distance, flow, tabuList, tabuTenure):\n",
        "  optionsList = []\n",
        "  # while len(optionsList) != topCandidates:\n",
        "  #   option1 = random.randint(0, 19)\n",
        "  #   range = [0,1,2,3,4,5,6,7,8,9,10,11,12,13,14,15,16,17,18,19]\n",
        "  #   option2 = random.choice([i for i in range if i != option1])\n",
        "  #   temp = (option1, option2)\n",
        "  #   if temp not in optionsList:\n",
        "  #     optionsList.append(temp)\n",
        "\n",
        "  for i in range(20):\n",
        "    for j in range(20):\n",
        "      temp = (i,j)\n",
        "      temp2 = (j,i)\n",
        "      if (i != j) & (temp not in optionsList) & (temp2 not in optionsList):\n",
        "        optionsList.append(temp)\n",
        "  \n",
        "  bestSwap = findBestSwap(optionsList, currentSolution, distance, flow, tabuList)\n",
        "  \n",
        "  tabuList[bestSwap[0]]= tabuTenure\n",
        "  updateTabuList(tabuList)\n",
        "  #print(bestSwap)\n",
        "  # currentSolution = swap(bestSwap[0][0],bestSwap[0][1], currentSolution)\n",
        "\n",
        "  temp = currentSolution[bestSwap[0][0]]\n",
        "  currentSolution[bestSwap[0][0]] = currentSolution[bestSwap[0][1]]\n",
        "  currentSolution[bestSwap[0][1]] = temp\n",
        "\n",
        "  cost = getCost(currentSolution, distance, flow)\n",
        "  return cost"
      ],
      "metadata": {
        "id": "5RkTmVCZCBbw"
      },
      "execution_count": null,
      "outputs": []
    },
    {
      "cell_type": "code",
      "source": [
        "test = []\n",
        "for i in range(5):\n",
        "    for j in range(5):\n",
        "      temp = (i,j)\n",
        "      temp2 = (j,i)\n",
        "      if (i != j) & (temp not in test) & (temp2 not in test):\n",
        "        test.append(temp)\n",
        "\n",
        "print(test)"
      ],
      "metadata": {
        "colab": {
          "base_uri": "https://localhost:8080/"
        },
        "id": "ZnRySjjRuI5R",
        "outputId": "54228922-5e2a-498a-9372-55d75414229e"
      },
      "execution_count": null,
      "outputs": [
        {
          "output_type": "stream",
          "name": "stdout",
          "text": [
            "[(0, 1), (0, 2), (0, 3), (0, 4), (1, 2), (1, 3), (1, 4), (2, 3), (2, 4), (3, 4)]\n"
          ]
        }
      ]
    },
    {
      "cell_type": "code",
      "source": [
        "def updateTabuList(tabuList):\n",
        "    removeMoves = []\n",
        "    for key in tabuList:\n",
        "        tabuList[key]-=1\n",
        "        if tabuList[key]<=0:\n",
        "            removeMoves.append(key)\n",
        "    for move in removeMoves:\n",
        "        tabuList.pop(move, None)"
      ],
      "metadata": {
        "id": "LV0gErub2GBF"
      },
      "execution_count": null,
      "outputs": []
    },
    {
      "cell_type": "code",
      "source": [
        "#def updateTabuList(bestSwap):\n",
        "  #num1 = bestSwap[0]\n",
        "  #num2 = bestSwap[1]\n",
        "  #tabuTenure = bestSwap[2]\n",
        "\n",
        "#  tabuList.append([bestSwap])\n",
        " # for i in tabuList:\n",
        "  #  i[2] -= 1\n",
        "\n",
        "#  for i in tabuList:\n",
        " #   if i[2] == 0:\n",
        "  #    tabuList.remove(i)\n",
        "   # else:\n",
        "    #  i[2] -= 1"
      ],
      "metadata": {
        "id": "jnRJo5AHCe7F"
      },
      "execution_count": null,
      "outputs": []
    },
    {
      "cell_type": "code",
      "source": [
        "def main(initial, tabuTenure):\n",
        "\n",
        "  bestCost = 1285\n",
        "  tabuTenure = tabuTenure\n",
        "  tabuList = {}\n",
        "  topCandidates = 5\n",
        "  # aspirationList = []\n",
        "\n",
        "  distance = numpy.loadtxt(open('/Distance.csv'), delimiter = ',')\n",
        "  flow = numpy.loadtxt(open('/Flow.csv'), delimiter = ',')\n",
        "\n",
        "  cost = 0\n",
        "  currentSolution = initial\n",
        "  currentLowestCost = doTabu(currentSolution, distance, flow, tabuList, tabuTenure)\n",
        "\n",
        "  #while cost != bestCost:\n",
        "  for i in range(100):\n",
        "    cost = doTabu(currentSolution, distance, flow, tabuList, tabuTenure)\n",
        "    if cost < currentLowestCost:\n",
        "      currentLowestCost = cost\n",
        "  \n",
        "  print(currentLowestCost)"
      ],
      "metadata": {
        "id": "A40nirVCTND9"
      },
      "execution_count": null,
      "outputs": []
    },
    {
      "cell_type": "code",
      "execution_count": null,
      "metadata": {
        "colab": {
          "base_uri": "https://localhost:8080/",
          "height": 328
        },
        "id": "9Z6psPZVf6_o",
        "outputId": "932b678d-667b-460e-8444-480209480456"
      },
      "outputs": [
        {
          "output_type": "error",
          "ename": "KeyboardInterrupt",
          "evalue": "ignored",
          "traceback": [
            "\u001b[0;31m---------------------------------------------------------------------------\u001b[0m",
            "\u001b[0;31mKeyboardInterrupt\u001b[0m                         Traceback (most recent call last)",
            "\u001b[0;32m<ipython-input-29-9c4555c80ba4>\u001b[0m in \u001b[0;36m<module>\u001b[0;34m()\u001b[0m\n\u001b[1;32m      3\u001b[0m \u001b[0minitial\u001b[0m \u001b[0;34m=\u001b[0m \u001b[0;34m[\u001b[0m\u001b[0;36m0\u001b[0m\u001b[0;34m,\u001b[0m\u001b[0;36m1\u001b[0m\u001b[0;34m,\u001b[0m\u001b[0;36m2\u001b[0m\u001b[0;34m,\u001b[0m\u001b[0;36m3\u001b[0m\u001b[0;34m,\u001b[0m\u001b[0;36m4\u001b[0m\u001b[0;34m,\u001b[0m\u001b[0;36m5\u001b[0m\u001b[0;34m,\u001b[0m\u001b[0;36m6\u001b[0m\u001b[0;34m,\u001b[0m\u001b[0;36m7\u001b[0m\u001b[0;34m,\u001b[0m\u001b[0;36m8\u001b[0m\u001b[0;34m,\u001b[0m\u001b[0;36m9\u001b[0m\u001b[0;34m,\u001b[0m\u001b[0;36m10\u001b[0m\u001b[0;34m,\u001b[0m\u001b[0;36m11\u001b[0m\u001b[0;34m,\u001b[0m\u001b[0;36m12\u001b[0m\u001b[0;34m,\u001b[0m\u001b[0;36m13\u001b[0m\u001b[0;34m,\u001b[0m\u001b[0;36m14\u001b[0m\u001b[0;34m,\u001b[0m\u001b[0;36m15\u001b[0m\u001b[0;34m,\u001b[0m\u001b[0;36m16\u001b[0m\u001b[0;34m,\u001b[0m\u001b[0;36m17\u001b[0m\u001b[0;34m,\u001b[0m\u001b[0;36m18\u001b[0m\u001b[0;34m,\u001b[0m\u001b[0;36m19\u001b[0m\u001b[0;34m]\u001b[0m\u001b[0;34m\u001b[0m\u001b[0;34m\u001b[0m\u001b[0m\n\u001b[1;32m      4\u001b[0m \u001b[0mtabuTenure\u001b[0m \u001b[0;34m=\u001b[0m \u001b[0;36m5\u001b[0m\u001b[0;34m\u001b[0m\u001b[0;34m\u001b[0m\u001b[0m\n\u001b[0;32m----> 5\u001b[0;31m \u001b[0mmain\u001b[0m\u001b[0;34m(\u001b[0m\u001b[0minitial\u001b[0m\u001b[0;34m,\u001b[0m \u001b[0mtabuTenure\u001b[0m\u001b[0;34m)\u001b[0m\u001b[0;34m\u001b[0m\u001b[0;34m\u001b[0m\u001b[0m\n\u001b[0m",
            "\u001b[0;32m<ipython-input-28-378f4a3f270f>\u001b[0m in \u001b[0;36mmain\u001b[0;34m(initial, tabuTenure)\u001b[0m\n\u001b[1;32m     16\u001b[0m   \u001b[0;31m#while cost != bestCost:\u001b[0m\u001b[0;34m\u001b[0m\u001b[0;34m\u001b[0m\u001b[0;34m\u001b[0m\u001b[0m\n\u001b[1;32m     17\u001b[0m   \u001b[0;32mfor\u001b[0m \u001b[0mi\u001b[0m \u001b[0;32min\u001b[0m \u001b[0mrange\u001b[0m\u001b[0;34m(\u001b[0m\u001b[0;36m100\u001b[0m\u001b[0;34m)\u001b[0m\u001b[0;34m:\u001b[0m\u001b[0;34m\u001b[0m\u001b[0;34m\u001b[0m\u001b[0m\n\u001b[0;32m---> 18\u001b[0;31m     \u001b[0mcost\u001b[0m \u001b[0;34m=\u001b[0m \u001b[0mdoTabu\u001b[0m\u001b[0;34m(\u001b[0m\u001b[0mcurrentSolution\u001b[0m\u001b[0;34m,\u001b[0m \u001b[0mdistance\u001b[0m\u001b[0;34m,\u001b[0m \u001b[0mflow\u001b[0m\u001b[0;34m,\u001b[0m \u001b[0mtabuList\u001b[0m\u001b[0;34m,\u001b[0m \u001b[0mtabuTenure\u001b[0m\u001b[0;34m)\u001b[0m\u001b[0;34m\u001b[0m\u001b[0;34m\u001b[0m\u001b[0m\n\u001b[0m\u001b[1;32m     19\u001b[0m     \u001b[0;32mif\u001b[0m \u001b[0mcost\u001b[0m \u001b[0;34m<\u001b[0m \u001b[0mcurrentLowestCost\u001b[0m\u001b[0;34m:\u001b[0m\u001b[0;34m\u001b[0m\u001b[0;34m\u001b[0m\u001b[0m\n\u001b[1;32m     20\u001b[0m       \u001b[0mcurrentLowestCost\u001b[0m \u001b[0;34m=\u001b[0m \u001b[0mcost\u001b[0m\u001b[0;34m\u001b[0m\u001b[0;34m\u001b[0m\u001b[0m\n",
            "\u001b[0;32m<ipython-input-24-f4366a584267>\u001b[0m in \u001b[0;36mdoTabu\u001b[0;34m(currentSolution, distance, flow, tabuList, tabuTenure)\u001b[0m\n\u001b[1;32m     16\u001b[0m         \u001b[0moptionsList\u001b[0m\u001b[0;34m.\u001b[0m\u001b[0mappend\u001b[0m\u001b[0;34m(\u001b[0m\u001b[0mtemp\u001b[0m\u001b[0;34m)\u001b[0m\u001b[0;34m\u001b[0m\u001b[0;34m\u001b[0m\u001b[0m\n\u001b[1;32m     17\u001b[0m \u001b[0;34m\u001b[0m\u001b[0m\n\u001b[0;32m---> 18\u001b[0;31m   \u001b[0mbestSwap\u001b[0m \u001b[0;34m=\u001b[0m \u001b[0mfindBestSwap\u001b[0m\u001b[0;34m(\u001b[0m\u001b[0moptionsList\u001b[0m\u001b[0;34m,\u001b[0m \u001b[0mcurrentSolution\u001b[0m\u001b[0;34m,\u001b[0m \u001b[0mdistance\u001b[0m\u001b[0;34m,\u001b[0m \u001b[0mflow\u001b[0m\u001b[0;34m,\u001b[0m \u001b[0mtabuList\u001b[0m\u001b[0;34m)\u001b[0m\u001b[0;34m\u001b[0m\u001b[0;34m\u001b[0m\u001b[0m\n\u001b[0m\u001b[1;32m     19\u001b[0m \u001b[0;34m\u001b[0m\u001b[0m\n\u001b[1;32m     20\u001b[0m   \u001b[0mtabuList\u001b[0m\u001b[0;34m[\u001b[0m\u001b[0mbestSwap\u001b[0m\u001b[0;34m[\u001b[0m\u001b[0;36m0\u001b[0m\u001b[0;34m]\u001b[0m\u001b[0;34m]\u001b[0m\u001b[0;34m=\u001b[0m \u001b[0mtabuTenure\u001b[0m\u001b[0;34m\u001b[0m\u001b[0;34m\u001b[0m\u001b[0m\n",
            "\u001b[0;32m<ipython-input-20-f2161ab326b1>\u001b[0m in \u001b[0;36mfindBestSwap\u001b[0;34m(optionsList, currentSolution, distance, flow, tabuList)\u001b[0m\n\u001b[1;32m      3\u001b[0m   \u001b[0;32mfor\u001b[0m \u001b[0moption\u001b[0m \u001b[0;32min\u001b[0m \u001b[0moptionsList\u001b[0m\u001b[0;34m:\u001b[0m\u001b[0;34m\u001b[0m\u001b[0;34m\u001b[0m\u001b[0m\n\u001b[1;32m      4\u001b[0m     \u001b[0moptionSolution\u001b[0m \u001b[0;34m=\u001b[0m \u001b[0mswap\u001b[0m\u001b[0;34m(\u001b[0m\u001b[0moption\u001b[0m\u001b[0;34m[\u001b[0m\u001b[0;36m0\u001b[0m\u001b[0;34m]\u001b[0m\u001b[0;34m,\u001b[0m \u001b[0moption\u001b[0m\u001b[0;34m[\u001b[0m\u001b[0;36m1\u001b[0m\u001b[0;34m]\u001b[0m\u001b[0;34m,\u001b[0m \u001b[0mcurrentSolution\u001b[0m\u001b[0;34m)\u001b[0m\u001b[0;34m\u001b[0m\u001b[0;34m\u001b[0m\u001b[0m\n\u001b[0;32m----> 5\u001b[0;31m     \u001b[0mswapCost\u001b[0m \u001b[0;34m=\u001b[0m \u001b[0mgetCost\u001b[0m\u001b[0;34m(\u001b[0m\u001b[0moptionSolution\u001b[0m\u001b[0;34m,\u001b[0m \u001b[0mdistance\u001b[0m\u001b[0;34m,\u001b[0m \u001b[0mflow\u001b[0m\u001b[0;34m)\u001b[0m\u001b[0;34m\u001b[0m\u001b[0;34m\u001b[0m\u001b[0m\n\u001b[0m\u001b[1;32m      6\u001b[0m     \u001b[0msort\u001b[0m\u001b[0;34m.\u001b[0m\u001b[0mappend\u001b[0m\u001b[0;34m(\u001b[0m\u001b[0;34m(\u001b[0m\u001b[0moption\u001b[0m\u001b[0;34m,\u001b[0m \u001b[0mswapCost\u001b[0m\u001b[0;34m)\u001b[0m\u001b[0;34m)\u001b[0m\u001b[0;34m\u001b[0m\u001b[0;34m\u001b[0m\u001b[0m\n\u001b[1;32m      7\u001b[0m \u001b[0;34m\u001b[0m\u001b[0m\n",
            "\u001b[0;32m<ipython-input-21-16c72829c560>\u001b[0m in \u001b[0;36mgetCost\u001b[0;34m(solution, distance, flow)\u001b[0m\n\u001b[1;32m     13\u001b[0m     \u001b[0;32mfor\u001b[0m \u001b[0mj\u001b[0m \u001b[0;32min\u001b[0m \u001b[0mrange\u001b[0m\u001b[0;34m(\u001b[0m\u001b[0;36m20\u001b[0m\u001b[0;34m)\u001b[0m\u001b[0;34m:\u001b[0m\u001b[0;34m\u001b[0m\u001b[0;34m\u001b[0m\u001b[0m\n\u001b[1;32m     14\u001b[0m       \u001b[0;32mif\u001b[0m \u001b[0mi\u001b[0m \u001b[0;34m!=\u001b[0m \u001b[0mj\u001b[0m\u001b[0;34m:\u001b[0m\u001b[0;34m\u001b[0m\u001b[0;34m\u001b[0m\u001b[0m\n\u001b[0;32m---> 15\u001b[0;31m         \u001b[0mcost\u001b[0m \u001b[0;34m+=\u001b[0m \u001b[0mdistance\u001b[0m\u001b[0;34m[\u001b[0m\u001b[0mi\u001b[0m\u001b[0;34m]\u001b[0m\u001b[0;34m[\u001b[0m\u001b[0mj\u001b[0m\u001b[0;34m]\u001b[0m\u001b[0;34m*\u001b[0m\u001b[0mflow\u001b[0m\u001b[0;34m[\u001b[0m\u001b[0msolution\u001b[0m\u001b[0;34m[\u001b[0m\u001b[0mi\u001b[0m\u001b[0;34m]\u001b[0m\u001b[0;34m]\u001b[0m\u001b[0;34m[\u001b[0m\u001b[0msolution\u001b[0m\u001b[0;34m[\u001b[0m\u001b[0mj\u001b[0m\u001b[0;34m]\u001b[0m\u001b[0;34m]\u001b[0m\u001b[0;34m\u001b[0m\u001b[0;34m\u001b[0m\u001b[0m\n\u001b[0m\u001b[1;32m     16\u001b[0m   \u001b[0;32mreturn\u001b[0m \u001b[0mcost\u001b[0m\u001b[0;34m/\u001b[0m\u001b[0;36m2\u001b[0m\u001b[0;34m\u001b[0m\u001b[0;34m\u001b[0m\u001b[0m\n",
            "\u001b[0;31mKeyboardInterrupt\u001b[0m: "
          ]
        }
      ],
      "source": [
        "# Part 1\n",
        "\n",
        "initial = [0,1,2,3,4,5,6,7,8,9,10,11,12,13,14,15,16,17,18,19]\n",
        "tabuTenure = 5\n",
        "main(initial, tabuTenure)"
      ]
    },
    {
      "cell_type": "code",
      "source": [
        "#Part 3, i\n",
        "\n",
        "initial = [0,1,2,3,4,5,6,7,8,9,10,11,12,13,14,15,16,17,18,19]\n",
        "tabuTenure = 5\n",
        "\n",
        "for i in range(10):\n",
        "  main(initial, tabuTenure)\n",
        "  random.shuffle(initial)"
      ],
      "metadata": {
        "id": "siWG0Mdra56N"
      },
      "execution_count": null,
      "outputs": []
    },
    {
      "cell_type": "code",
      "source": [
        "#Part 3, ii\n",
        "\n",
        "initial = [0,1,2,3,4,5,6,7,8,9,10,11,12,13,14,15,16,17,18,19]\n",
        "tabuTenure = 1\n",
        "for i in range(2):\n",
        "  main(initial, tabuTenure)\n",
        "  tabuTenure += 150"
      ],
      "metadata": {
        "id": "cNx5Fc52cMaC",
        "colab": {
          "base_uri": "https://localhost:8080/"
        },
        "outputId": "be1c5e43-1f9a-4e54-af9b-15ad3a9a7349"
      },
      "execution_count": null,
      "outputs": [
        {
          "output_type": "stream",
          "name": "stdout",
          "text": [
            "1462.0\n",
            "1471.0\n"
          ]
        }
      ]
    },
    {
      "cell_type": "code",
      "source": [
        "def main2(initial):\n",
        "\n",
        "  bestCost = 1285\n",
        "  tabuList = {}\n",
        "  topCandidates = 5\n",
        "  tabuTenure = 0\n",
        "  # aspirationList = []\n",
        "\n",
        "  distance = numpy.loadtxt(open('/Distance.csv'), delimiter = ',')\n",
        "  flow = numpy.loadtxt(open('/Flow.csv'), delimiter = ',')\n",
        "\n",
        "  cost = 0\n",
        "  currentSolution = initial\n",
        "  currentLowestCost = doTabu(currentSolution, distance, flow, tabuList, tabuTenure)\n",
        "\n",
        "  #while cost != bestCost:\n",
        "  for i in range(10):\n",
        "    tabuTenure = random.randint(0, 9)\n",
        "    for i in range(random.randint(0, 9)):\n",
        "      cost = doTabu(currentSolution, distance, flow, tabuList, tabuTenure)\n",
        "      if cost < currentLowestCost:\n",
        "        currentLowestCost = cost\n",
        "  \n",
        "  print(currentLowestCost)"
      ],
      "metadata": {
        "id": "DvMc79gWJjF-"
      },
      "execution_count": null,
      "outputs": []
    },
    {
      "cell_type": "code",
      "source": [
        "#Part 3, iii\n",
        "\n",
        "initial = [0,1,2,3,4,5,6,7,8,9,10,11,12,13,14,15,16,17,18,19]\n",
        "\n",
        "main2(initial)"
      ],
      "metadata": {
        "id": "lRutrzkMlJoM",
        "colab": {
          "base_uri": "https://localhost:8080/"
        },
        "outputId": "54a4484c-7615-4793-f896-889f52455972"
      },
      "execution_count": null,
      "outputs": [
        {
          "output_type": "stream",
          "name": "stdout",
          "text": [
            "1462.0\n"
          ]
        }
      ]
    },
    {
      "cell_type": "code",
      "source": [
        "def main3(initial, tabuTenure):\n",
        "\n",
        "  bestCost = 1285\n",
        "  tabuTenure = tabuTenure\n",
        "  tabuList = {}\n",
        "  topCandidates = 5\n",
        "  aspirationList = []\n",
        "\n",
        "  distance = numpy.loadtxt(open('/Distance.csv'), delimiter = ',')\n",
        "  flow = numpy.loadtxt(open('/Flow.csv'), delimiter = ',')\n",
        "\n",
        "  cost = 0\n",
        "  currentSolution = initial\n",
        "  currentLowestCost = doTabu3(currentSolution, distance, flow, tabuList, tabuTenure, aspirationList)\n",
        "\n",
        "  #while cost != bestCost:\n",
        "  for i in range(100):\n",
        "    cost = doTabu3(currentSolution, distance, flow, tabuList, tabuTenure, aspirationList)\n",
        "    if cost < currentLowestCost:\n",
        "      currentLowestCost = cost\n",
        "  \n",
        "  print(currentLowestCost)"
      ],
      "metadata": {
        "id": "FU3HFcJwK2xV"
      },
      "execution_count": null,
      "outputs": []
    },
    {
      "cell_type": "code",
      "source": [
        "def doTabu3(currentSolution, distance, flow, tabuList, tabuTenure, aspirationList):\n",
        "  optionsList = []\n",
        "  # while len(optionsList) != topCandidates:\n",
        "  #   option1 = random.randint(0, 19)\n",
        "  #   range = [0,1,2,3,4,5,6,7,8,9,10,11,12,13,14,15,16,17,18,19]\n",
        "  #   option2 = random.choice([i for i in range if i != option1])\n",
        "  #   temp = (option1, option2)\n",
        "  #   if temp not in optionsList:\n",
        "  #     optionsList.append(temp)\n",
        "\n",
        "  for i in range(20):\n",
        "    for j in range(20):\n",
        "      temp = (i,j)\n",
        "      temp2 = (j,i)\n",
        "      if (i != j) & (temp not in optionsList) & (temp2 not in optionsList):\n",
        "        optionsList.append(temp)\n",
        "  \n",
        "  bestSwap = findBestSwap3(optionsList, currentSolution, distance, flow, tabuList, aspirationList)\n",
        "  \n",
        "  tabuList[bestSwap[0]]= tabuTenure\n",
        "  updateTabuList(tabuList)\n",
        "  #print(bestSwap)\n",
        "  #currentSolution = swap(bestSwap[0][0],bestSwap[0][1], currentSolution)\n",
        "  temp = currentSolution[bestSwap[0][0]]\n",
        "  currentSolution[bestSwap[0][0]] = currentSolution[bestSwap[0][1]]\n",
        "  currentSolution[bestSwap[0][1]] = temp\n",
        "\n",
        "  cost = getCost(currentSolution, distance, flow)\n",
        "  return cost"
      ],
      "metadata": {
        "id": "hrS9mfrkMgb3"
      },
      "execution_count": null,
      "outputs": []
    },
    {
      "cell_type": "code",
      "source": [
        "def findBestSwap3(optionsList, currentSolution, distance, flow, tabuList, aspirationList):\n",
        "  sort = []\n",
        "  for option in optionsList:\n",
        "    optionSolution = swap(option[0], option[1], currentSolution)\n",
        "    swapCost = getCost(optionSolution, distance, flow)\n",
        "    sort.append((option, swapCost))\n",
        "\n",
        "  sort = sorted(sort, key=lambda d:d[1])\n",
        "\n",
        "  filter_sort = []\n",
        "  for solution in sort:\n",
        "    if len(aspirationList) == 0:\n",
        "      temp = False\n",
        "    else:\n",
        "      if str(solution[1] < min(aspirationList)) == \"True\":\n",
        "        temp = True\n",
        "      else:\n",
        "        temp = False    \n",
        "    if solution[0] in tabuList or temp == False:\n",
        "      continue\n",
        "    else:\n",
        "      filter_sort.append(solution)\n",
        "  if len(filter_sort) == 0:\n",
        "    aspirationList.append(sort[0][1])\n",
        "    #print(sort[1][1])\n",
        "    return sort[0]\n",
        "  bestSwap = filter_sort[0]\n",
        "  aspirationList.append(filter_sort[0][1])\n",
        "  #print(filter_sort[1][1])\n",
        "  #print(sort)\n",
        "  return bestSwap"
      ],
      "metadata": {
        "id": "Lc9lFoVJMhSF"
      },
      "execution_count": null,
      "outputs": []
    },
    {
      "cell_type": "code",
      "source": [
        "#test findBestSwap3()\n",
        "\n",
        "distance = numpy.loadtxt(open('/Distance.csv'), delimiter = ',')\n",
        "flow = numpy.loadtxt(open('/Flow.csv'), delimiter = ',')\n",
        "tabuList = {(1,2):2,(2,3):3,(3,4):6}\n",
        "\n",
        "test = [0,1,2,3,4,5,6,7,8,9,10,11,12,13,14,15,16,17,18,19]\n",
        "optionsList = [(1,2),(2,3),(3,4),(5,6),(7,8)]\n",
        "aspirationList = [(2,3)]\n",
        "\n",
        "test2 = findBestSwap3(optionsList, test, distance, flow, tabuList, aspirationList)\n",
        "print(test2)"
      ],
      "metadata": {
        "colab": {
          "base_uri": "https://localhost:8080/"
        },
        "id": "MQHJm0F1OJk3",
        "outputId": "79022bfc-d379-4950-e8d4-75dc8f957479"
      },
      "execution_count": null,
      "outputs": [
        {
          "output_type": "stream",
          "name": "stdout",
          "text": [
            "((1, 2), 1690.0)\n"
          ]
        }
      ]
    },
    {
      "cell_type": "code",
      "source": [
        "#Part 3, iv - Best solution ever\n",
        "\n",
        "initial = [0,1,2,3,4,5,6,7,8,9,10,11,12,13,14,15,16,17,18,19]\n",
        "tabuTenure = 5\n",
        "main3(initial, tabuTenure)"
      ],
      "metadata": {
        "colab": {
          "base_uri": "https://localhost:8080/"
        },
        "id": "EIZRGxS-VXX9",
        "outputId": "1f9d46ad-4c7d-4f88-e1be-613384b338d6"
      },
      "execution_count": null,
      "outputs": [
        {
          "output_type": "stream",
          "name": "stdout",
          "text": [
            "1462.0\n"
          ]
        }
      ]
    },
    {
      "cell_type": "code",
      "source": [
        "def main4(initial, tabuTenure):\n",
        "\n",
        "  bestCost = 1285\n",
        "  tabuTenure = tabuTenure\n",
        "  tabuList = {}\n",
        "  topCandidates = 5\n",
        "\n",
        "  distance = numpy.loadtxt(open('/Distance.csv'), delimiter = ',')\n",
        "  flow = numpy.loadtxt(open('/Flow.csv'), delimiter = ',')\n",
        "\n",
        "  cost = 0\n",
        "  currentSolution = initial\n",
        "  currentLowestCost = doTabu4(currentSolution, distance, flow, tabuList, tabuTenure)\n",
        "\n",
        "  #while cost != bestCost:\n",
        "  for i in range(100):\n",
        "    cost = doTabu4(currentSolution, distance, flow, tabuList, tabuTenure)\n",
        "    if cost < currentLowestCost:\n",
        "      currentLowestCost = cost\n",
        "  \n",
        "  print(currentLowestCost)"
      ],
      "metadata": {
        "id": "aJslCqMDQoWX"
      },
      "execution_count": null,
      "outputs": []
    },
    {
      "cell_type": "code",
      "source": [
        "def doTabu4(currentSolution, distance, flow, tabuList, tabuTenure):\n",
        "  optionsList = []\n",
        "  # while len(optionsList) != topCandidates:\n",
        "  #   option1 = random.randint(0, 19)\n",
        "  #   range = [0,1,2,3,4,5,6,7,8,9,10,11,12,13,14,15,16,17,18,19]\n",
        "  #   option2 = random.choice([i for i in range if i != option1])\n",
        "  #   temp = (option1, option2)\n",
        "  #   if temp not in optionsList:\n",
        "  #     optionsList.append(temp)\n",
        "\n",
        "  for i in range(20):\n",
        "    for j in range(20):\n",
        "      temp = (i,j)\n",
        "      temp2 = (j,i)\n",
        "      if (i != j) & (temp not in optionsList) & (temp2 not in optionsList):\n",
        "        optionsList.append(temp)\n",
        "  \n",
        "  bestSwap = findBestSwap4(optionsList, currentSolution, distance, flow, tabuList)\n",
        "  \n",
        "  tabuList[bestSwap[0]]= tabuTenure\n",
        "  updateTabuList(tabuList)\n",
        "  #print(bestSwap)\n",
        "  #currentSolution = swap(bestSwap[0][0],bestSwap[0][1], currentSolution)\n",
        "\n",
        "  temp = currentSolution[bestSwap[0][0]]\n",
        "  currentSolution[bestSwap[0][0]] = currentSolution[bestSwap[0][1]]\n",
        "  currentSolution[bestSwap[0][1]] = temp\n",
        "  \n",
        "  cost = getCost(currentSolution, distance, flow)\n",
        "  return cost"
      ],
      "metadata": {
        "id": "faNHy49qQ13A"
      },
      "execution_count": null,
      "outputs": []
    },
    {
      "cell_type": "code",
      "source": [
        "def findBestSwap4(optionsList, currentSolution, distance, flow, tabuList):\n",
        "  sort = []\n",
        "  for option in optionsList:\n",
        "    optionSolution = swap(option[0], option[1], currentSolution)\n",
        "    swapCost = getCost(optionSolution, distance, flow)\n",
        "    sort.append((option, swapCost))\n",
        "\n",
        "  sort = sorted(sort, key=lambda d:d[1])\n",
        "\n",
        "  filter_sort = []\n",
        "  for solution in sort:\n",
        "    if not solution[0] in tabuList or (solution[0] == sort[0][0]):\n",
        "      filter_sort.append(solution)\n",
        "  if len(filter_sort) == 0:\n",
        "    return sort[0]\n",
        "  bestSwap = filter_sort[0]\n",
        "  return bestSwap"
      ],
      "metadata": {
        "id": "U-yvgiD0Q6vG"
      },
      "execution_count": null,
      "outputs": []
    },
    {
      "cell_type": "code",
      "source": [
        "# #test findBestSwap4()\n",
        "\n",
        "# distance = numpy.loadtxt(open('/Distance.csv'), delimiter = ',')\n",
        "# flow = numpy.loadtxt(open('/Flow.csv'), delimiter = ',')\n",
        "# tabuList = {(1,2):2,(2,3):3,(3,4):6}\n",
        "\n",
        "# test = [0,1,2,3,4,5,6,7,8,9,10,11,12,13,14,15,16,17,18,19]\n",
        "# optionsList = [(1,2),(2,3),(3,4),(5,6),(7,8)]\n",
        "# aspirationList = [(2,3)]\n",
        "\n",
        "# test2 = findBestSwap4(optionsList, test, distance, flow, tabuList)\n",
        "# print(test2)"
      ],
      "metadata": {
        "id": "-feh21E1RZvl"
      },
      "execution_count": null,
      "outputs": []
    },
    {
      "cell_type": "code",
      "source": [
        "#Part 3, iv - Best solution in neighbourhood\n",
        "\n",
        "initial = [0,1,2,3,4,5,6,7,8,9,10,11,12,13,14,15,16,17,18,19]\n",
        "tabuTenure = 5\n",
        "\n",
        "main4(initial, tabuTenure)"
      ],
      "metadata": {
        "colab": {
          "base_uri": "https://localhost:8080/"
        },
        "id": "FQ1bKVS3KgU1",
        "outputId": "84a295ec-3bc3-4ecf-d202-a07ed2b6ede4"
      },
      "execution_count": null,
      "outputs": [
        {
          "output_type": "stream",
          "name": "stdout",
          "text": [
            "1462.0\n"
          ]
        }
      ]
    },
    {
      "cell_type": "code",
      "source": [
        "def doTabu5(currentSolution, distance, flow, tabuList, tabuTenure):\n",
        "  optionsList = []\n",
        "  while len(optionsList) != 5:\n",
        "    option1 = random.randint(0, 19)\n",
        "    range = [0,1,2,3,4,5,6,7,8,9,10,11,12,13,14,15,16,17,18,19]\n",
        "    option2 = random.choice([i for i in range if i != option1])\n",
        "    temp = (option1, option2)\n",
        "    if temp not in optionsList:\n",
        "      optionsList.append(temp)\n",
        "\n",
        "  # for i in range(20):\n",
        "  #   for j in range(20):\n",
        "  #     temp = (i,j)\n",
        "  #     temp2 = (j,i)\n",
        "  #     if (i != j) & (temp not in optionsList) & (temp2 not in optionsList):\n",
        "  #       optionsList.append(temp)\n",
        "  \n",
        "  bestSwap = findBestSwap(optionsList, currentSolution, distance, flow, tabuList)\n",
        "  \n",
        "  tabuList[bestSwap[0]]= tabuTenure\n",
        "  updateTabuList(tabuList)\n",
        "  #print(bestSwap)\n",
        "  #currentSolution = swap(bestSwap[0][0],bestSwap[0][1], currentSolution)\n",
        "  temp = currentSolution[bestSwap[0][0]]\n",
        "  currentSolution[bestSwap[0][0]] = currentSolution[bestSwap[0][1]]\n",
        "  currentSolution[bestSwap[0][1]] = temp\n",
        "\n",
        "  cost = getCost(currentSolution, distance, flow)\n",
        "  return cost"
      ],
      "metadata": {
        "id": "fI2ZDUULRZIj"
      },
      "execution_count": null,
      "outputs": []
    },
    {
      "cell_type": "code",
      "source": [
        "def main5(initial, tabuTenure):\n",
        "\n",
        "  bestCost = 1285\n",
        "  tabuTenure = tabuTenure\n",
        "  tabuList = {}\n",
        "  topCandidates = 5\n",
        "  # aspirationList = []\n",
        "\n",
        "  distance = numpy.loadtxt(open('/Distance.csv'), delimiter = ',')\n",
        "  flow = numpy.loadtxt(open('/Flow.csv'), delimiter = ',')\n",
        "\n",
        "  cost = 0\n",
        "  currentSolution = initial\n",
        "  currentLowestCost = doTabu5(currentSolution, distance, flow, tabuList, tabuTenure)\n",
        "\n",
        "  #while cost != bestCost:\n",
        "  for i in range(100):\n",
        "    cost = doTabu5(currentSolution, distance, flow, tabuList, tabuTenure)\n",
        "    if cost < currentLowestCost:\n",
        "      currentLowestCost = cost\n",
        "  \n",
        "  print(currentLowestCost)"
      ],
      "metadata": {
        "id": "mkJnKeaFRkdJ"
      },
      "execution_count": null,
      "outputs": []
    },
    {
      "cell_type": "code",
      "source": [
        "#Part 3, v\n",
        "\n",
        "initial = [0,1,2,3,4,5,6,7,8,9,10,11,12,13,14,15,16,17,18,19]\n",
        "tabuTenure = 5\n",
        "\n",
        "main5(initial, tabuTenure)"
      ],
      "metadata": {
        "colab": {
          "base_uri": "https://localhost:8080/"
        },
        "id": "YSIHY18QWMXD",
        "outputId": "6109c825-6809-4583-e187-ffdbe863eb45"
      },
      "execution_count": null,
      "outputs": [
        {
          "output_type": "stream",
          "name": "stdout",
          "text": [
            "1517.0\n"
          ]
        }
      ]
    }
  ]
}